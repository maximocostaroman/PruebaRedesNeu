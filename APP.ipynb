{
  "nbformat": 4,
  "nbformat_minor": 0,
  "metadata": {
    "colab": {
      "provenance": []
    },
    "kernelspec": {
      "name": "python3",
      "display_name": "Python 3"
    },
    "language_info": {
      "name": "python"
    }
  },
  "cells": [
    {
      "cell_type": "code",
      "execution_count": 1,
      "metadata": {
        "colab": {
          "base_uri": "https://localhost:8080/",
          "height": 383
        },
        "id": "_ZJnI9TLdZaV",
        "outputId": "2549b34e-57f0-4b4a-df5e-518010ca9f8a"
      },
      "outputs": [
        {
          "output_type": "error",
          "ename": "ModuleNotFoundError",
          "evalue": "No module named 'streamlit'",
          "traceback": [
            "\u001b[0;31m---------------------------------------------------------------------------\u001b[0m",
            "\u001b[0;31mModuleNotFoundError\u001b[0m                       Traceback (most recent call last)",
            "\u001b[0;32m<ipython-input-1-1019161421>\u001b[0m in \u001b[0;36m<cell line: 0>\u001b[0;34m()\u001b[0m\n\u001b[1;32m      1\u001b[0m \u001b[0;31m# app.py\u001b[0m\u001b[0;34m\u001b[0m\u001b[0;34m\u001b[0m\u001b[0m\n\u001b[0;32m----> 2\u001b[0;31m \u001b[0;32mimport\u001b[0m \u001b[0mstreamlit\u001b[0m \u001b[0;32mas\u001b[0m \u001b[0mst\u001b[0m\u001b[0;34m\u001b[0m\u001b[0;34m\u001b[0m\u001b[0m\n\u001b[0m\u001b[1;32m      3\u001b[0m \u001b[0;32mimport\u001b[0m \u001b[0mtorch\u001b[0m\u001b[0;34m\u001b[0m\u001b[0;34m\u001b[0m\u001b[0m\n\u001b[1;32m      4\u001b[0m \u001b[0;32mfrom\u001b[0m \u001b[0mPIL\u001b[0m \u001b[0;32mimport\u001b[0m \u001b[0mImage\u001b[0m\u001b[0;34m,\u001b[0m \u001b[0mImageDraw\u001b[0m\u001b[0;34m\u001b[0m\u001b[0;34m\u001b[0m\u001b[0m\n\u001b[1;32m      5\u001b[0m \u001b[0;32mfrom\u001b[0m \u001b[0mtorchvision\u001b[0m \u001b[0;32mimport\u001b[0m \u001b[0mtransforms\u001b[0m\u001b[0;34m\u001b[0m\u001b[0;34m\u001b[0m\u001b[0m\n",
            "\u001b[0;31mModuleNotFoundError\u001b[0m: No module named 'streamlit'",
            "",
            "\u001b[0;31m---------------------------------------------------------------------------\u001b[0;32m\nNOTE: If your import is failing due to a missing package, you can\nmanually install dependencies using either !pip or !apt.\n\nTo view examples of installing some common dependencies, click the\n\"Open Examples\" button below.\n\u001b[0;31m---------------------------------------------------------------------------\u001b[0m\n"
          ],
          "errorDetails": {
            "actions": [
              {
                "action": "open_url",
                "actionText": "Open Examples",
                "url": "/notebooks/snippets/importing_libraries.ipynb"
              }
            ]
          }
        }
      ],
      "source": [
        "# app.py\n",
        "import streamlit as st\n",
        "import torch\n",
        "from PIL import Image, ImageDraw\n",
        "from torchvision import transforms\n",
        "from facenet_pytorch import MTCNN\n",
        "import numpy as np\n",
        "\n",
        "# ======= MODELOS ==========\n",
        "device = torch.device('cuda' if torch.cuda.is_available() else 'cpu')\n",
        "\n",
        "# Detector de caras\n",
        "mtcnn = MTCNN(keep_all=True, device=device)\n",
        "\n",
        "# Clasificador de emociones (cargá tu modelo entrenado)\n",
        "modelo_emociones = torch.load('best_model.pth', map_location=device)\n",
        "modelo_emociones.eval()\n",
        "\n",
        "# Etiquetas del modelo FER-2013\n",
        "emociones = ['Angry', 'Disgust', 'Fear', 'Happy', 'Sad', 'Surprise', 'Neutral']\n",
        "\n",
        "# Preprocesamiento\n",
        "transform = transforms.Compose([\n",
        "    transforms.Grayscale(num_output_channels=1),\n",
        "    transforms.Resize((48, 48)),\n",
        "    transforms.ToTensor()\n",
        "])\n",
        "\n",
        "# ======= APP STREAMLIT ==========\n",
        "st.title(\"Detector de Emociones en Rostros\")\n",
        "st.write(\"Subí una imagen y detectamos las emociones de los rostros.\")\n",
        "\n",
        "uploaded_file = st.file_uploader(\"Elegí una imagen\", type=[\"jpg\", \"jpeg\", \"png\"])\n",
        "\n",
        "if uploaded_file is not None:\n",
        "    img = Image.open(uploaded_file).convert('RGB')\n",
        "    st.image(img, caption=\"Imagen original\", use_column_width=True)\n",
        "\n",
        "    # Detección de caras\n",
        "    boxes, _ = mtcnn.detect(img)\n",
        "\n",
        "    if boxes is not None:\n",
        "        draw = ImageDraw.Draw(img)\n",
        "\n",
        "        for box in boxes:\n",
        "            # Recortar rostro\n",
        "            cara = img.crop(box)\n",
        "            cara_tensor = transform(cara).unsqueeze(0).to(device)  # [1, 1, 48, 48]\n",
        "\n",
        "            # Clasificar emoción\n",
        "            with torch.no_grad():\n",
        "                output = modelo_emociones(cara_tensor)\n",
        "                pred = torch.argmax(output, dim=1).item()\n",
        "                emocion = emociones[pred]\n",
        "\n",
        "            # Dibujar caja + emoción\n",
        "            draw.rectangle(box.tolist(), outline='red', width=2)\n",
        "            draw.text((box[0], box[1]-10), emocion, fill='red')\n",
        "\n",
        "        # Mostrar resultado final\n",
        "        st.image(img, caption=\"Detección con emociones\", use_column_width=True)\n",
        "    else:\n",
        "        st.warning(\"No se detectaron rostros en la imagen.\")\n"
      ]
    }
  ]
}